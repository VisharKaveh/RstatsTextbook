{
  "cells": [
    {
      "cell_type": "markdown",
      "metadata": {},
      "source": [
        "# Introduction {.unnumbered}\n",
        "\n",
        "\n",
        "\n",
        "```{css}\n",
        "#| echo: false\n",
        "p {\n",
        "  text-align: justify\n",
        "}\n",
        "```\n",
        "\n",
        "\n",
        "\n",
        "::: callout-warning\n",
        "## Warning\n",
        "\n",
        "This textbook draft is very much **work in progress**. \n",
        "\n",
        "I will add to it over the course of the semester. This first draft is intended as complementary materials to my M.A. class: \"More than counting words: Introduction to statistics and data visualisation for linguists\" taught at the University of Cologne.\n",
        ":::\n",
        "\n",
        "This textbook is intended as a very gentle introduction to basic principles of data management and coding in R for statistics and data visualisation. The target audience are  students and researchers in the language sciences, including (applied) linguistics, language teaching, and language education research. The rationale for this textbook is based on my personal observations, in teaching and consulting both students and colleagues, that many so-called introductory textbooks assume too much previous knowledge or go through materials at too fast a pace for many humanities scholars who often little to no experience with programming and/or statistics. The end of this textbook is by no means to replace any of the brilliant existing textbooks aimed imparting statistical literacy for linguistics research, but rather to provide a stepping stone towards being able to make the most of these existing resources. A (growing) list of  next-step resources is included in the appendix."
      ],
      "id": "86ade82e"
    }
  ],
  "metadata": {
    "kernelspec": {
      "name": "python3",
      "language": "python",
      "display_name": "Python 3 (ipykernel)"
    }
  },
  "nbformat": 4,
  "nbformat_minor": 5
}